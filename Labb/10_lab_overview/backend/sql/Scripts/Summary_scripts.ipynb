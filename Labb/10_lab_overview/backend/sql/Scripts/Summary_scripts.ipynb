{
 "cells": [
  {
   "cell_type": "markdown",
   "metadata": {},
   "source": [
    "## TittarE Marts\n",
    "#### Schema: tittare_marts\n",
    "\n",
    "Detta skript skapar ett schema och två tabeller som innehåller information om tittarnas demografi baserat på ålder och kön.\n",
    "\n",
    "Åldersfördelning\n",
    "Tabell: tittare_marts.age_distribution\n",
    "\n",
    "#### Beskrivning:\n",
    "\n",
    "Samlar in data om tittarnas åldersgrupper och deras engagemang.\n",
    "\n",
    "Filtrerar bort rader där Tittarnas ålder är NULL eller tom.\n",
    "\n",
    "#### Kolumner:\n",
    "\n",
    "- Alder: Tittarnas åldersgrupp.\n",
    "- Visningar_procent: Procentandel av visningar per åldersgrupp.\n",
    "- Genomsnittlig_visningslängd: Genomsnittlig visningstid per åldersgrupp.\n",
    "- Genomsnittlig_procent_visad: Genomsnittlig procent av videon som har visats.\n",
    "- Visningstid_timmar_procent: Procentandel av visningstid i timmar per åldersgrupp."
   ]
  },
  {
   "cell_type": "markdown",
   "metadata": {},
   "source": [
    "### Könsfördelning\n",
    "#### Tabell: tittare_marts.gender_distribution\n",
    "\n",
    "#### Beskrivning:\n",
    "Samlar in data om tittarnas kön och deras engagemang.\n",
    "Filtrerar bort rader där Tittarnas kön är NULL eller tom.\n",
    "\n",
    "#### Kolumner:\n",
    "- Kon: Tittarnas kön.\n",
    "- Visningar_procent: Procentandel av visningar per kön.\n",
    "- Genomsnittlig_visningslängd: Genomsnittlig visningstid per kön.\n",
    "- Genomsnittlig_procent_visad: Genomsnittlig procent av videon som har visats.\n",
    "- Visningstid_timmar_procent: Procentandel av visningstid i timmar per kön."
   ]
  },
  {
   "cell_type": "markdown",
   "metadata": {},
   "source": [
    "## Prenumerations Marts\n",
    "#### Schema: prenumerations_marts\n",
    "Detta skript skapar flera tabeller för att analysera prenumerationsdata och visningar relaterade till prenumerationsstatus.\n",
    "\n",
    "### Visningar per Prenumerationsstatus per Datum\n",
    "Tabell: prenumerations_marts.views_per_status_date\n",
    "\n",
    "#### Beskrivning:\n",
    "Samlar data om antalet visningar per prenumerationsstatus per datum.\n",
    "Filtrerar bort rader där Datum är 'Totalt' för att undvika fel vid datumkonvertering.\n",
    "Använder STRFTIME för att formatera datum.\n",
    "#### Kolumner:\n",
    "- Datum: Datum för visningar.\n",
    "- Prenumerationsstatus: Om tittaren är prenumerant eller ej.\n",
    "- Visningar: Totalt antal visningar för kombinationen av datum och prenumerationsstatus.\n",
    "### Prenumeranter per Datum\n",
    "Tabell: prenumerations_marts.subscribers_per_date\n",
    "\n",
    "#### Beskrivning:\n",
    "Samlar data om antalet nya prenumeranter per datum.\n",
    "Filtrerar bort rader där Datum är 'Totalt'.\n",
    "#### Kolumner:\n",
    "- Datum: Datum för prenumerationer.\n",
    "- Prenumeranter: Antal nya prenumeranter för det datumet.\n",
    "### Visningar och Prenumeranter per Datum\n",
    "Tabell: prenumerations_marts.views_and_subscribers_per_date\n",
    "\n",
    "#### Beskrivning:\n",
    "Kombinerar data om visningar och prenumeranter per datum.\n",
    "Beräknar förhållandet mellan prenumeranter och visningar.\n",
    "Använder tidigare skapade tabeller.\n",
    "#### Kolumner:\n",
    "- Datum: Datum för data.\n",
    "- Visningar: Antal visningar per datum.\n",
    "- Prenumeranter: Antal prenumeranter per datum.\n",
    "- Prenumeranter_per_visning: Förhållandet mellan prenumeranter och visningar."
   ]
  },
  {
   "cell_type": "markdown",
   "metadata": {},
   "source": [
    "## Innehålls Mart\n",
    "Detta skript skapar en tabell för att identifiera de topp 5 videorna baserat på visningar.\n",
    "\n",
    "### Topp 5 Videor\n",
    "Tabell: top_5_videos\n",
    "\n",
    "#### Beskrivning:\n",
    "Väljer de fem mest visade videorna.\n",
    "Filtrerar bort ogiltiga eller aggregerade rader.\n",
    "#### Kolumner:\n",
    "\n",
    "- Visningar: Antal visningar.\n",
    "- Visningstid_timmar: Totala visningstimmar.\n",
    "- Exponeringar: Antal exponeringar.\n",
    "- Prenumeranter: Antal prenumeranter från videon.\n",
    "- Klickfrekvens_exponering_procent: Klickfrekvens i procent.\n"
   ]
  },
  {
   "cell_type": "markdown",
   "metadata": {},
   "source": [
    "## rafikkälla Marts\n",
    "### Schema: trafikkalla\n",
    "Detta skript skapar tabeller för att analysera visningar baserat på trafikkälla.\n",
    "\n",
    "### Visningar per Datum och Trafikkälla\n",
    "Tabell: trafikkalla.views_per_date\n",
    "\n",
    "#### Beskrivning:\n",
    "Samlar data om visningar per trafikkälla per datum.\n",
    "Filtrerar bort rader där Datum är 'Totalt'.\n",
    "#### Kolumner:\n",
    "- Datum: Datum för visningar.\n",
    "- Trafikkälla: Källan till trafiken.\n",
    "- Visningar: Antal visningar från trafikkällan.\n",
    "### Sammanfattning av Trafikkällor\n",
    "Tabell: trafikkalla.summary\n",
    "\n",
    "#### Beskrivning:\n",
    "Ger en sammanfattning av trafikkällor och deras prestanda.\n",
    "Filtrerar bort aggregerade rader.\n",
    "#### Kolumner:\n",
    "- Trafikkälla: Namnet på trafikkällan.\n",
    "- Visningar: Totala visningar från trafikkällan.\n",
    "- Visningstid_timmar: Totala visningstimmar.\n",
    "- Genomsnittlig_visningslängd: Genomsnittlig visningslängd.\n",
    "- Exponeringar: Antal exponeringar.\n",
    "- Klickfrekvens_exponering_procent: Klickfrekvens i procent."
   ]
  },
  {
   "cell_type": "markdown",
   "metadata": {},
   "source": []
  }
 ],
 "metadata": {
  "language_info": {
   "name": "python"
  }
 },
 "nbformat": 4,
 "nbformat_minor": 2
}
