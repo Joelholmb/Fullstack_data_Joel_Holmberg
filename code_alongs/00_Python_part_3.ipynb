{
 "cells": [
  {
   "cell_type": "markdown",
   "metadata": {},
   "source": [
    "### Python summary part 3\n",
    "\n",
    "- Error handling\n",
    "- functions\n",
    "- matplotlib\n",
    "- Numpy\n",
    "- File handling\n",
    "- Datatime"
   ]
  },
  {
   "cell_type": "markdown",
   "metadata": {},
   "source": []
  }
 ],
 "metadata": {
  "language_info": {
   "name": "python"
  }
 },
 "nbformat": 4,
 "nbformat_minor": 2
}
