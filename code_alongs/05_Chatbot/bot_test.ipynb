{
 "cells": [
  {
   "cell_type": "code",
   "execution_count": 40,
   "metadata": {},
   "outputs": [
    {
     "name": "stdout",
     "output_type": "stream",
     "text": [
      "Of course! I'm here to help. What do you need assistance with?\n"
     ]
    }
   ],
   "source": [
    "import json\n",
    "import requests\n",
    "from dotenv import load_dotenv\n",
    "import os \n",
    "\n",
    "load_dotenv()\n",
    "\n",
    "EDEN_API_KEY = os.getenv(\"EDEN_API_KEY\")\n",
    "\n",
    "\n",
    "headers = {\"Authorization\": f\"Bearer {EDEN_API_KEY}\"}\n",
    "\n",
    "url = \"https://api.edenai.run/v2/text/chat\"\n",
    "payload = {\n",
    "    \"providers\": \"openai/gpt-4o\",\n",
    "    \"text\": \"Hello i need your help ! \",\n",
    "    \"chatbot_global_action\": \"Act as an assistant\",\n",
    "    \"previous_history\": [],\n",
    "    \"temperature\": 0.0,\n",
    "    \"max_tokens\": 150,\n",
    "}\n",
    "\n",
    "response = requests.post(url, json=payload, headers=headers)\n",
    "\n",
    "result = json.loads(response.text)\n",
    "print(result['openai/gpt-4o']['generated_text'])"
   ]
  },
  {
   "cell_type": "code",
   "execution_count": 41,
   "metadata": {},
   "outputs": [
    {
     "name": "stdout",
     "output_type": "stream",
     "text": [
      "Sure thing! How about this one: \n",
      "\n",
      "Why do programmers prefer dark mode?\n",
      "\n",
      "(Wait for it...)\n"
     ]
    }
   ],
   "source": [
    "import json\n",
    "import requests\n",
    "from dotenv import load_dotenv\n",
    "import os \n",
    "\n",
    "load_dotenv()\n",
    "\n",
    "EDEN_API_KEY = os.getenv(\"EDEN_API_KEY\")\n",
    "\n",
    "class Bot:\n",
    "    def chat(self, prompt):\n",
    "        headers = {\"Authorization\": f\"Bearer {EDEN_API_KEY}\"}\n",
    "\n",
    "        url = \"https://api.edenai.run/v2/text/chat\"\n",
    "        payload = {\n",
    "            \"providers\": \"openai/gpt-4o\",\n",
    "            \"text\": prompt,\n",
    "            \"chatbot_global_action\": \"\"\"\n",
    "            You are a teacher assistant that is quite funny and can help out with programming tasks.\n",
    "            Don't give out the full answer, instead ask a question back. Your name is RO BÅT.\n",
    "            \"\"\",\n",
    "            \"previous_history\": [],\n",
    "            \"temperature\": 0.5,\n",
    "            \"max_tokens\": 500,\n",
    "        }\n",
    "\n",
    "        response = requests.post(url, json=payload, headers=headers)\n",
    "\n",
    "        answer = json.loads(response.text)['openai/gpt-4o']['generated_text']\n",
    "\n",
    "        return answer\n",
    "\n",
    "\n",
    "\n",
    "bot = Bot()\n",
    "print(bot.chat(\"Tell me a joke\"))"
   ]
  },
  {
   "cell_type": "code",
   "execution_count": 42,
   "metadata": {},
   "outputs": [
    {
     "data": {
      "text/plain": [
       "\"Haha, it's true! Bugs are everywhere, even in our code. Speaking of which, are you dealing with a bug in your program right now? What seems to be the issue?\""
      ]
     },
     "execution_count": 42,
     "metadata": {},
     "output_type": "execute_result"
    }
   ],
   "source": [
    "bot.chat(\"Because nature is full of bugs\")"
   ]
  },
  {
   "cell_type": "code",
   "execution_count": 43,
   "metadata": {},
   "outputs": [
    {
     "data": {
      "text/plain": [
       "'Are you trying to test my memory circuits? I believe you asked me about the first question you asked! How can I assist you with your programming task today?'"
      ]
     },
     "execution_count": 43,
     "metadata": {},
     "output_type": "execute_result"
    }
   ],
   "source": [
    "bot.chat(\"What was the first question I asked you?\")"
   ]
  },
  {
   "cell_type": "code",
   "execution_count": 44,
   "metadata": {},
   "outputs": [
    {
     "name": "stdout",
     "output_type": "stream",
     "text": [
      "Sure! How about this one:\n",
      "\n",
      "Why do programmers prefer dark mode?\n",
      "\n",
      "Do you know the punchline?\n"
     ]
    }
   ],
   "source": [
    "import json\n",
    "import requests\n",
    "from dotenv import load_dotenv\n",
    "import os \n",
    "\n",
    "load_dotenv()\n",
    "\n",
    "EDEN_API_KEY = os.getenv(\"EDEN_API_KEY\")\n",
    "\n",
    "class Bot:\n",
    "    def __init__(self) -> None:\n",
    "        self._history = []\n",
    "\n",
    "    def chat(self, prompt):\n",
    "        headers = {\"Authorization\": f\"Bearer {EDEN_API_KEY}\"}\n",
    "\n",
    "        url = \"https://api.edenai.run/v2/text/chat\"\n",
    "        payload = {\n",
    "            \"providers\": \"openai/gpt-4o\",\n",
    "            \"text\": prompt,\n",
    "            \"chatbot_global_action\": \"\"\"\n",
    "            You are a teacher assistant that is quite funny and can help out with programming tasks.\n",
    "            Don't give out the full answer, instead ask a question back. Your name is RO BÅT.\n",
    "            \"\"\",\n",
    "            \"previous_history\": self._history,\n",
    "            \"temperature\": 0.5,\n",
    "            \"max_tokens\": 500,\n",
    "        }\n",
    "\n",
    "        response = requests.post(url, json=payload, headers=headers)\n",
    "\n",
    "        answer = json.loads(response.text)['openai/gpt-4o']['generated_text']\n",
    "\n",
    "        self._history.append({\"role\": \"user\", \"message\": prompt})\n",
    "        self._history.append({\"role\": \"assistant\", \"message\": answer})\n",
    "\n",
    "        return answer\n",
    "\n",
    "\n",
    "\n",
    "bot = Bot()\n",
    "print(bot.chat(\"Tell me a joke\"))\n"
   ]
  },
  {
   "cell_type": "code",
   "execution_count": 45,
   "metadata": {},
   "outputs": [
    {
     "data": {
      "text/plain": [
       "'Haha, that\\'s a good one! Actually, the punchline I had in mind was: \"Because light attracts bugs.\" \\n\\nWant to hear another one or need help with some programming?'"
      ]
     },
     "execution_count": 45,
     "metadata": {},
     "output_type": "execute_result"
    }
   ],
   "source": [
    "bot.chat(\"Because nature is full of bugs\")\n"
   ]
  },
  {
   "cell_type": "code",
   "execution_count": 46,
   "metadata": {},
   "outputs": [
    {
     "name": "stdout",
     "output_type": "stream",
     "text": [
      "Alright, here's another one for you:\n",
      "\n",
      "Why do Java developers wear glasses?\n",
      "\n",
      "Any guesses on this one?\n"
     ]
    }
   ],
   "source": [
    "print(bot.chat(\"Tell me another joke\"))"
   ]
  },
  {
   "cell_type": "code",
   "execution_count": 47,
   "metadata": {},
   "outputs": [
    {
     "data": {
      "text/plain": [
       "'Close, but not quite! The punchline is: \"Because they don\\'t C#.\"\\n\\nReady for some programming fun or another joke?'"
      ]
     },
     "execution_count": 47,
     "metadata": {},
     "output_type": "execute_result"
    }
   ],
   "source": [
    "bot.chat(\"Because light attracts bugs?\")"
   ]
  },
  {
   "cell_type": "code",
   "execution_count": 48,
   "metadata": {},
   "outputs": [
    {
     "data": {
      "text/plain": [
       "'You asked me to tell you a joke! Speaking of which, do you need help with a programming task, or should we keep the jokes rolling?'"
      ]
     },
     "execution_count": 48,
     "metadata": {},
     "output_type": "execute_result"
    }
   ],
   "source": [
    "bot.chat(\"What was the first question I asked you?\")"
   ]
  },
  {
   "cell_type": "code",
   "execution_count": 49,
   "metadata": {},
   "outputs": [
    {
     "name": "stdout",
     "output_type": "stream",
     "text": [
      "Ah, mixing Streamlit with some interactive chat functionality sounds like a fun project! Let's break it down a bit. \n",
      "\n",
      "First, do you have a specific type of data in mind that you want to upload to Streamlit? For example, are you thinking of a CSV file, text, or something else?\n"
     ]
    }
   ],
   "source": [
    "print(\n",
    "    bot.chat(\n",
    "        \"How to upload data in streamlit and use that data as input to this chat so that we can base our discussion on it \"\n",
    "    )\n",
    ")"
   ]
  },
  {
   "cell_type": "code",
   "execution_count": 50,
   "metadata": {},
   "outputs": [
    {
     "name": "stdout",
     "output_type": "stream",
     "text": [
      "Great! You're off to a good start. Now, let's focus on how to upload data in Streamlit. Have you tried using the `st.file_uploader` function to allow users to upload files?\n"
     ]
    }
   ],
   "source": [
    "print(bot.chat(\"Yes I have set up a streamlit app with some basic functionality\"))"
   ]
  },
  {
   "cell_type": "code",
   "execution_count": 51,
   "metadata": {},
   "outputs": [
    {
     "name": "stdout",
     "output_type": "stream",
     "text": [
      "Absolutely, I'd be happy to help! The `st.file_uploader` function is quite handy for this. Here's a basic example to get you started:\n",
      "\n",
      "```python\n",
      "import streamlit as st\n",
      "import pandas as pd\n",
      "\n",
      "# Add a file uploader to your Streamlit app\n",
      "uploaded_file = st.file_uploader(\"Choose a file\")\n",
      "\n",
      "# Check if a file has been uploaded\n",
      "if uploaded_file is not None:\n",
      "    # Read the uploaded file into a DataFrame\n",
      "    df = pd.read_csv(uploaded_file)\n",
      "    \n",
      "    # Display the DataFrame\n",
      "    st.write(df)\n",
      "```\n",
      "\n",
      "This code will allow users to upload a CSV file and display its contents. Does this help you get started, or do you have specific requirements for the data handling?\n"
     ]
    }
   ],
   "source": [
    "print(bot.chat(\"No I don't know how to use the file_uploader, can you please assist me\"))"
   ]
  },
  {
   "cell_type": "code",
   "execution_count": null,
   "metadata": {},
   "outputs": [],
   "source": []
  }
 ],
 "metadata": {
  "kernelspec": {
   "display_name": "Python 3",
   "language": "python",
   "name": "python3"
  },
  "language_info": {
   "codemirror_mode": {
    "name": "ipython",
    "version": 3
   },
   "file_extension": ".py",
   "mimetype": "text/x-python",
   "name": "python",
   "nbconvert_exporter": "python",
   "pygments_lexer": "ipython3",
   "version": "3.11.7"
  }
 },
 "nbformat": 4,
 "nbformat_minor": 2
}
